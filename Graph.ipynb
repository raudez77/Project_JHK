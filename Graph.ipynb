{
 "cells": [
  {
   "cell_type": "code",
   "execution_count": 2,
   "metadata": {},
   "outputs": [],
   "source": [
    "import pandas as pd\n",
    "import numpy as np \n",
    "import yfinance as yf\n",
    "\n",
    "# Scripts \n",
    "from Scripts.myscripts import DownloadCleanData, Graph3D"
   ]
  },
  {
   "cell_type": "code",
   "execution_count": 3,
   "metadata": {},
   "outputs": [],
   "source": [
    "Ticker = ['MSFT','GOOG','AAPL','NVDA','META','MU','AMZN',\"KO\",\"SBUX\"]\n",
    "START = \"2022-01-01\"\n",
    "END = \"2022-12-31\"\n",
    "data = DownloadCleanData(Ticker, start_=START, end_=END)"
   ]
  },
  {
   "cell_type": "code",
   "execution_count": 7,
   "metadata": {},
   "outputs": [],
   "source": [
    "# Creating Grpah\n",
    "data_graph = data['Open']"
   ]
  },
  {
   "cell_type": "code",
   "execution_count": 8,
   "metadata": {},
   "outputs": [
    {
     "name": "stdout",
     "output_type": "stream",
     "text": [
      "Cluster 1: KO\n",
      "Cluster 2: AAPL, AMZN, GOOG, META, MSFT, MU, NVDA\n",
      "Cluster 3: SBUX\n"
     ]
    }
   ],
   "source": [
    "Graph_ = Graph3D(data_graph,'Cluster Analyses')"
   ]
  },
  {
   "cell_type": "code",
   "execution_count": 9,
   "metadata": {},
   "outputs": [
    {
     "data": {
      "application/vnd.plotly.v1+json": {
       "config": {
        "plotlyServerURL": "https://plot.ly"
       },
       "data": [
        {
         "line": {
          "color": "#F3FBED",
          "width": 6.774025634988523
         },
         "mode": "lines",
         "type": "scatter3d",
         "x": [
          -0.20321222755839766,
          0.21005664036115934
         ],
         "y": [
          0.22600236234112306,
          0.0530553042163151
         ],
         "z": [
          0.18816234133397045,
          -0.3580722727046406
         ]
        },
        {
         "line": {
          "color": "#EAF7E4",
          "width": 0.6099826709944395
         },
         "mode": "lines",
         "type": "scatter3d",
         "x": [
          -0.20321222755839766,
          -0.8057173533337473
         ],
         "y": [
          0.22600236234112306,
          -0.4074622379135693
         ],
         "z": [
          0.18816234133397045,
          -0.15665007712613274
         ]
        },
        {
         "line": {
          "color": "#E1F3DC",
          "width": 3.483547469500986
         },
         "mode": "lines",
         "type": "scatter3d",
         "x": [
          -0.20321222755839766,
          -0.10371959085908529
         ],
         "y": [
          0.22600236234112306,
          0.28116935889432143
         ],
         "z": [
          0.18816234133397045,
          0.15691611911202524
         ]
        },
        {
         "line": {
          "color": "#D8F0D3",
          "width": 1.9247941411214704
         },
         "mode": "lines",
         "type": "scatter3d",
         "x": [
          -0.20321222755839766,
          -0.046969077544815864
         ],
         "y": [
          0.22600236234112306,
          0.42225412164373327
         ],
         "z": [
          0.18816234133397045,
          0.32629421785473856
         ]
        },
        {
         "line": {
          "color": "#D0ECC9",
          "width": 6.182838250499065
         },
         "mode": "lines",
         "type": "scatter3d",
         "x": [
          0.21005664036115934,
          0.10577934413329677
         ],
         "y": [
          0.0530553042163151,
          0.35260480156606516
         ],
         "z": [
          -0.3580722727046406,
          -0.06612939252594786
         ]
        },
        {
         "line": {
          "color": "#C4E8C1",
          "width": 2.10344505476922
         },
         "mode": "lines",
         "type": "scatter3d",
         "x": [
          0.21005664036115934,
          -0.8057173533337473
         ],
         "y": [
          0.0530553042163151,
          -0.4074622379135693
         ],
         "z": [
          -0.3580722727046406,
          -0.15665007712613274
         ]
        },
        {
         "line": {
          "color": "#B5E2BB",
          "width": 1.4600666256102959
         },
         "mode": "lines",
         "type": "scatter3d",
         "x": [
          0.21005664036115934,
          -0.10371959085908529
         ],
         "y": [
          0.0530553042163151,
          0.28116935889432143
         ],
         "z": [
          -0.3580722727046406,
          0.15691611911202524
         ]
        },
        {
         "line": {
          "color": "#A6DCB6",
          "width": 2.3287782223598876
         },
         "mode": "lines",
         "type": "scatter3d",
         "x": [
          0.10577934413329677,
          0.3221989886883132
         ],
         "y": [
          0.35260480156606516,
          -0.5322109237841826
         ],
         "z": [
          -0.06612939252594786,
          0.5328619580275158
         ]
        },
        {
         "line": {
          "color": "#94D5BC",
          "width": 4.636800848780696
         },
         "mode": "lines",
         "type": "scatter3d",
         "x": [
          0.10577934413329677,
          -0.10371959085908529
         ],
         "y": [
          0.35260480156606516,
          0.28116935889432143
         ],
         "z": [
          -0.06612939252594786,
          0.15691611911202524
         ]
        },
        {
         "line": {
          "color": "#81CEC2",
          "width": 2.1969841220571986
         },
         "mode": "lines",
         "type": "scatter3d",
         "x": [
          0.10577934413329677,
          0.23423337885490952
         ],
         "y": [
          0.35260480156606516,
          -0.06174023881622474
         ],
         "z": [
          -0.06612939252594786,
          -0.6264383850174835
         ]
        },
        {
         "line": {
          "color": "#6EC5C8",
          "width": 2.2720136262090835
         },
         "mode": "lines",
         "type": "scatter3d",
         "x": [
          0.10577934413329677,
          0.2873498972465129
         ],
         "y": [
          0.35260480156606516,
          -0.33367254814759
         ],
         "z": [
          -0.06612939252594786,
          0.003055491045953317
         ]
        },
        {
         "line": {
          "color": "#5BBACF",
          "width": 2.4639990995444094
         },
         "mode": "lines",
         "type": "scatter3d",
         "x": [
          0.10577934413329677,
          -0.046969077544815864
         ],
         "y": [
          0.35260480156606516,
          0.42225412164373327
         ],
         "z": [
          -0.06612939252594786,
          0.32629421785473856
         ]
        },
        {
         "line": {
          "color": "#4AAFD1",
          "width": 0.6801025601466999
         },
         "mode": "lines",
         "type": "scatter3d",
         "x": [
          -0.8057173533337473,
          0.3221989886883132
         ],
         "y": [
          -0.4074622379135693,
          -0.5322109237841826
         ],
         "z": [
          -0.15665007712613274,
          0.5328619580275158
         ]
        },
        {
         "line": {
          "color": "#3C9FC8",
          "width": 2.8826757756065473
         },
         "mode": "lines",
         "type": "scatter3d",
         "x": [
          -0.8057173533337473,
          -0.10371959085908529
         ],
         "y": [
          -0.4074622379135693,
          0.28116935889432143
         ],
         "z": [
          -0.15665007712613274,
          0.15691611911202524
         ]
        },
        {
         "line": {
          "color": "#2D8FBF",
          "width": 2.591213304804381
         },
         "mode": "lines",
         "type": "scatter3d",
         "x": [
          -0.8057173533337473,
          -0.046969077544815864
         ],
         "y": [
          -0.4074622379135693,
          0.42225412164373327
         ],
         "z": [
          -0.15665007712613274,
          0.32629421785473856
         ]
        },
        {
         "line": {
          "color": "#1F80B8",
          "width": 3.5799232694031993
         },
         "mode": "lines",
         "type": "scatter3d",
         "x": [
          0.3221989886883132,
          -0.10371959085908529
         ],
         "y": [
          -0.5322109237841826,
          0.28116935889432143
         ],
         "z": [
          0.5328619580275158,
          0.15691611911202524
         ]
        },
        {
         "line": {
          "color": "#1070B0",
          "width": 4.535140344870852
         },
         "mode": "lines",
         "type": "scatter3d",
         "x": [
          0.3221989886883132,
          0.23423337885490952
         ],
         "y": [
          -0.5322109237841826,
          -0.06174023881622474
         ],
         "z": [
          0.5328619580275158,
          -0.6264383850174835
         ]
        },
        {
         "line": {
          "color": "#0861A4",
          "width": 4.973176193719929
         },
         "mode": "lines",
         "type": "scatter3d",
         "x": [
          -0.10371959085908529,
          0.2873498972465129
         ],
         "y": [
          0.28116935889432143,
          -0.33367254814759
         ],
         "z": [
          0.15691611911202524,
          0.003055491045953317
         ]
        },
        {
         "line": {
          "color": "#085093",
          "width": 6.58721271709037
         },
         "mode": "lines",
         "type": "scatter3d",
         "x": [
          0.23423337885490952,
          0.2873498972465129
         ],
         "y": [
          -0.06174023881622474,
          -0.33367254814759
         ],
         "z": [
          -0.6264383850174835,
          0.003055491045953317
         ]
        },
        {
         "line": {
          "color": "#084081",
          "width": 3.0895449989436097
         },
         "mode": "lines",
         "type": "scatter3d",
         "x": [
          0.2873498972465129,
          -0.046969077544815864
         ],
         "y": [
          -0.33367254814759,
          0.42225412164373327
         ],
         "z": [
          0.003055491045953317,
          0.32629421785473856
         ]
        },
        {
         "mode": "markers+text",
         "text": [
          "KO"
         ],
         "type": "scatter3d",
         "x": [
          -0.8057173533337473
         ],
         "y": [
          -0.4074622379135693
         ],
         "z": [
          -0.15665007712613274
         ]
        },
        {
         "mode": "markers+text",
         "text": [
          "AAPL",
          "AMZN",
          "GOOG",
          "META",
          "MSFT",
          "MU",
          "NVDA"
         ],
         "type": "scatter3d",
         "x": [
          -0.20321222755839766,
          0.21005664036115934,
          0.10577934413329677,
          0.3221989886883132,
          -0.10371959085908529,
          0.23423337885490952,
          0.2873498972465129
         ],
         "y": [
          0.22600236234112306,
          0.0530553042163151,
          0.35260480156606516,
          -0.5322109237841826,
          0.28116935889432143,
          -0.06174023881622474,
          -0.33367254814759
         ],
         "z": [
          0.18816234133397045,
          -0.3580722727046406,
          -0.06612939252594786,
          0.5328619580275158,
          0.15691611911202524,
          -0.6264383850174835,
          0.003055491045953317
         ]
        },
        {
         "mode": "markers+text",
         "text": [
          "SBUX"
         ],
         "type": "scatter3d",
         "x": [
          -0.046969077544815864
         ],
         "y": [
          0.42225412164373327
         ],
         "z": [
          0.32629421785473856
         ]
        }
       ],
       "layout": {
        "autosize": false,
        "height": 900,
        "margin": {
         "b": 0,
         "l": 0,
         "r": 0,
         "t": 0
        },
        "meta": {
         "title": "3D Cluster by Cluster Analyses"
        },
        "scene": {
         "xaxis": {
          "showticklabels": false
         },
         "yaxis": {
          "showticklabels": false
         },
         "zaxis": {
          "showticklabels": false
         }
        },
        "showlegend": false,
        "template": {
         "data": {
          "bar": [
           {
            "error_x": {
             "color": "#2a3f5f"
            },
            "error_y": {
             "color": "#2a3f5f"
            },
            "marker": {
             "line": {
              "color": "#E5ECF6",
              "width": 0.5
             },
             "pattern": {
              "fillmode": "overlay",
              "size": 10,
              "solidity": 0.2
             }
            },
            "type": "bar"
           }
          ],
          "barpolar": [
           {
            "marker": {
             "line": {
              "color": "#E5ECF6",
              "width": 0.5
             },
             "pattern": {
              "fillmode": "overlay",
              "size": 10,
              "solidity": 0.2
             }
            },
            "type": "barpolar"
           }
          ],
          "carpet": [
           {
            "aaxis": {
             "endlinecolor": "#2a3f5f",
             "gridcolor": "white",
             "linecolor": "white",
             "minorgridcolor": "white",
             "startlinecolor": "#2a3f5f"
            },
            "baxis": {
             "endlinecolor": "#2a3f5f",
             "gridcolor": "white",
             "linecolor": "white",
             "minorgridcolor": "white",
             "startlinecolor": "#2a3f5f"
            },
            "type": "carpet"
           }
          ],
          "choropleth": [
           {
            "colorbar": {
             "outlinewidth": 0,
             "ticks": ""
            },
            "type": "choropleth"
           }
          ],
          "contour": [
           {
            "colorbar": {
             "outlinewidth": 0,
             "ticks": ""
            },
            "colorscale": [
             [
              0,
              "#0d0887"
             ],
             [
              0.1111111111111111,
              "#46039f"
             ],
             [
              0.2222222222222222,
              "#7201a8"
             ],
             [
              0.3333333333333333,
              "#9c179e"
             ],
             [
              0.4444444444444444,
              "#bd3786"
             ],
             [
              0.5555555555555556,
              "#d8576b"
             ],
             [
              0.6666666666666666,
              "#ed7953"
             ],
             [
              0.7777777777777778,
              "#fb9f3a"
             ],
             [
              0.8888888888888888,
              "#fdca26"
             ],
             [
              1,
              "#f0f921"
             ]
            ],
            "type": "contour"
           }
          ],
          "contourcarpet": [
           {
            "colorbar": {
             "outlinewidth": 0,
             "ticks": ""
            },
            "type": "contourcarpet"
           }
          ],
          "heatmap": [
           {
            "colorbar": {
             "outlinewidth": 0,
             "ticks": ""
            },
            "colorscale": [
             [
              0,
              "#0d0887"
             ],
             [
              0.1111111111111111,
              "#46039f"
             ],
             [
              0.2222222222222222,
              "#7201a8"
             ],
             [
              0.3333333333333333,
              "#9c179e"
             ],
             [
              0.4444444444444444,
              "#bd3786"
             ],
             [
              0.5555555555555556,
              "#d8576b"
             ],
             [
              0.6666666666666666,
              "#ed7953"
             ],
             [
              0.7777777777777778,
              "#fb9f3a"
             ],
             [
              0.8888888888888888,
              "#fdca26"
             ],
             [
              1,
              "#f0f921"
             ]
            ],
            "type": "heatmap"
           }
          ],
          "heatmapgl": [
           {
            "colorbar": {
             "outlinewidth": 0,
             "ticks": ""
            },
            "colorscale": [
             [
              0,
              "#0d0887"
             ],
             [
              0.1111111111111111,
              "#46039f"
             ],
             [
              0.2222222222222222,
              "#7201a8"
             ],
             [
              0.3333333333333333,
              "#9c179e"
             ],
             [
              0.4444444444444444,
              "#bd3786"
             ],
             [
              0.5555555555555556,
              "#d8576b"
             ],
             [
              0.6666666666666666,
              "#ed7953"
             ],
             [
              0.7777777777777778,
              "#fb9f3a"
             ],
             [
              0.8888888888888888,
              "#fdca26"
             ],
             [
              1,
              "#f0f921"
             ]
            ],
            "type": "heatmapgl"
           }
          ],
          "histogram": [
           {
            "marker": {
             "pattern": {
              "fillmode": "overlay",
              "size": 10,
              "solidity": 0.2
             }
            },
            "type": "histogram"
           }
          ],
          "histogram2d": [
           {
            "colorbar": {
             "outlinewidth": 0,
             "ticks": ""
            },
            "colorscale": [
             [
              0,
              "#0d0887"
             ],
             [
              0.1111111111111111,
              "#46039f"
             ],
             [
              0.2222222222222222,
              "#7201a8"
             ],
             [
              0.3333333333333333,
              "#9c179e"
             ],
             [
              0.4444444444444444,
              "#bd3786"
             ],
             [
              0.5555555555555556,
              "#d8576b"
             ],
             [
              0.6666666666666666,
              "#ed7953"
             ],
             [
              0.7777777777777778,
              "#fb9f3a"
             ],
             [
              0.8888888888888888,
              "#fdca26"
             ],
             [
              1,
              "#f0f921"
             ]
            ],
            "type": "histogram2d"
           }
          ],
          "histogram2dcontour": [
           {
            "colorbar": {
             "outlinewidth": 0,
             "ticks": ""
            },
            "colorscale": [
             [
              0,
              "#0d0887"
             ],
             [
              0.1111111111111111,
              "#46039f"
             ],
             [
              0.2222222222222222,
              "#7201a8"
             ],
             [
              0.3333333333333333,
              "#9c179e"
             ],
             [
              0.4444444444444444,
              "#bd3786"
             ],
             [
              0.5555555555555556,
              "#d8576b"
             ],
             [
              0.6666666666666666,
              "#ed7953"
             ],
             [
              0.7777777777777778,
              "#fb9f3a"
             ],
             [
              0.8888888888888888,
              "#fdca26"
             ],
             [
              1,
              "#f0f921"
             ]
            ],
            "type": "histogram2dcontour"
           }
          ],
          "mesh3d": [
           {
            "colorbar": {
             "outlinewidth": 0,
             "ticks": ""
            },
            "type": "mesh3d"
           }
          ],
          "parcoords": [
           {
            "line": {
             "colorbar": {
              "outlinewidth": 0,
              "ticks": ""
             }
            },
            "type": "parcoords"
           }
          ],
          "pie": [
           {
            "automargin": true,
            "type": "pie"
           }
          ],
          "scatter": [
           {
            "fillpattern": {
             "fillmode": "overlay",
             "size": 10,
             "solidity": 0.2
            },
            "type": "scatter"
           }
          ],
          "scatter3d": [
           {
            "line": {
             "colorbar": {
              "outlinewidth": 0,
              "ticks": ""
             }
            },
            "marker": {
             "colorbar": {
              "outlinewidth": 0,
              "ticks": ""
             }
            },
            "type": "scatter3d"
           }
          ],
          "scattercarpet": [
           {
            "marker": {
             "colorbar": {
              "outlinewidth": 0,
              "ticks": ""
             }
            },
            "type": "scattercarpet"
           }
          ],
          "scattergeo": [
           {
            "marker": {
             "colorbar": {
              "outlinewidth": 0,
              "ticks": ""
             }
            },
            "type": "scattergeo"
           }
          ],
          "scattergl": [
           {
            "marker": {
             "colorbar": {
              "outlinewidth": 0,
              "ticks": ""
             }
            },
            "type": "scattergl"
           }
          ],
          "scattermapbox": [
           {
            "marker": {
             "colorbar": {
              "outlinewidth": 0,
              "ticks": ""
             }
            },
            "type": "scattermapbox"
           }
          ],
          "scatterpolar": [
           {
            "marker": {
             "colorbar": {
              "outlinewidth": 0,
              "ticks": ""
             }
            },
            "type": "scatterpolar"
           }
          ],
          "scatterpolargl": [
           {
            "marker": {
             "colorbar": {
              "outlinewidth": 0,
              "ticks": ""
             }
            },
            "type": "scatterpolargl"
           }
          ],
          "scatterternary": [
           {
            "marker": {
             "colorbar": {
              "outlinewidth": 0,
              "ticks": ""
             }
            },
            "type": "scatterternary"
           }
          ],
          "surface": [
           {
            "colorbar": {
             "outlinewidth": 0,
             "ticks": ""
            },
            "colorscale": [
             [
              0,
              "#0d0887"
             ],
             [
              0.1111111111111111,
              "#46039f"
             ],
             [
              0.2222222222222222,
              "#7201a8"
             ],
             [
              0.3333333333333333,
              "#9c179e"
             ],
             [
              0.4444444444444444,
              "#bd3786"
             ],
             [
              0.5555555555555556,
              "#d8576b"
             ],
             [
              0.6666666666666666,
              "#ed7953"
             ],
             [
              0.7777777777777778,
              "#fb9f3a"
             ],
             [
              0.8888888888888888,
              "#fdca26"
             ],
             [
              1,
              "#f0f921"
             ]
            ],
            "type": "surface"
           }
          ],
          "table": [
           {
            "cells": {
             "fill": {
              "color": "#EBF0F8"
             },
             "line": {
              "color": "white"
             }
            },
            "header": {
             "fill": {
              "color": "#C8D4E3"
             },
             "line": {
              "color": "white"
             }
            },
            "type": "table"
           }
          ]
         },
         "layout": {
          "annotationdefaults": {
           "arrowcolor": "#2a3f5f",
           "arrowhead": 0,
           "arrowwidth": 1
          },
          "autotypenumbers": "strict",
          "coloraxis": {
           "colorbar": {
            "outlinewidth": 0,
            "ticks": ""
           }
          },
          "colorscale": {
           "diverging": [
            [
             0,
             "#8e0152"
            ],
            [
             0.1,
             "#c51b7d"
            ],
            [
             0.2,
             "#de77ae"
            ],
            [
             0.3,
             "#f1b6da"
            ],
            [
             0.4,
             "#fde0ef"
            ],
            [
             0.5,
             "#f7f7f7"
            ],
            [
             0.6,
             "#e6f5d0"
            ],
            [
             0.7,
             "#b8e186"
            ],
            [
             0.8,
             "#7fbc41"
            ],
            [
             0.9,
             "#4d9221"
            ],
            [
             1,
             "#276419"
            ]
           ],
           "sequential": [
            [
             0,
             "#0d0887"
            ],
            [
             0.1111111111111111,
             "#46039f"
            ],
            [
             0.2222222222222222,
             "#7201a8"
            ],
            [
             0.3333333333333333,
             "#9c179e"
            ],
            [
             0.4444444444444444,
             "#bd3786"
            ],
            [
             0.5555555555555556,
             "#d8576b"
            ],
            [
             0.6666666666666666,
             "#ed7953"
            ],
            [
             0.7777777777777778,
             "#fb9f3a"
            ],
            [
             0.8888888888888888,
             "#fdca26"
            ],
            [
             1,
             "#f0f921"
            ]
           ],
           "sequentialminus": [
            [
             0,
             "#0d0887"
            ],
            [
             0.1111111111111111,
             "#46039f"
            ],
            [
             0.2222222222222222,
             "#7201a8"
            ],
            [
             0.3333333333333333,
             "#9c179e"
            ],
            [
             0.4444444444444444,
             "#bd3786"
            ],
            [
             0.5555555555555556,
             "#d8576b"
            ],
            [
             0.6666666666666666,
             "#ed7953"
            ],
            [
             0.7777777777777778,
             "#fb9f3a"
            ],
            [
             0.8888888888888888,
             "#fdca26"
            ],
            [
             1,
             "#f0f921"
            ]
           ]
          },
          "colorway": [
           "#636efa",
           "#EF553B",
           "#00cc96",
           "#ab63fa",
           "#FFA15A",
           "#19d3f3",
           "#FF6692",
           "#B6E880",
           "#FF97FF",
           "#FECB52"
          ],
          "font": {
           "color": "#2a3f5f"
          },
          "geo": {
           "bgcolor": "white",
           "lakecolor": "white",
           "landcolor": "#E5ECF6",
           "showlakes": true,
           "showland": true,
           "subunitcolor": "white"
          },
          "hoverlabel": {
           "align": "left"
          },
          "hovermode": "closest",
          "mapbox": {
           "style": "light"
          },
          "paper_bgcolor": "white",
          "plot_bgcolor": "#E5ECF6",
          "polar": {
           "angularaxis": {
            "gridcolor": "white",
            "linecolor": "white",
            "ticks": ""
           },
           "bgcolor": "#E5ECF6",
           "radialaxis": {
            "gridcolor": "white",
            "linecolor": "white",
            "ticks": ""
           }
          },
          "scene": {
           "xaxis": {
            "backgroundcolor": "#E5ECF6",
            "gridcolor": "white",
            "gridwidth": 2,
            "linecolor": "white",
            "showbackground": true,
            "ticks": "",
            "zerolinecolor": "white"
           },
           "yaxis": {
            "backgroundcolor": "#E5ECF6",
            "gridcolor": "white",
            "gridwidth": 2,
            "linecolor": "white",
            "showbackground": true,
            "ticks": "",
            "zerolinecolor": "white"
           },
           "zaxis": {
            "backgroundcolor": "#E5ECF6",
            "gridcolor": "white",
            "gridwidth": 2,
            "linecolor": "white",
            "showbackground": true,
            "ticks": "",
            "zerolinecolor": "white"
           }
          },
          "shapedefaults": {
           "line": {
            "color": "#2a3f5f"
           }
          },
          "ternary": {
           "aaxis": {
            "gridcolor": "white",
            "linecolor": "white",
            "ticks": ""
           },
           "baxis": {
            "gridcolor": "white",
            "linecolor": "white",
            "ticks": ""
           },
           "bgcolor": "#E5ECF6",
           "caxis": {
            "gridcolor": "white",
            "linecolor": "white",
            "ticks": ""
           }
          },
          "title": {
           "x": 0.05
          },
          "xaxis": {
           "automargin": true,
           "gridcolor": "white",
           "linecolor": "white",
           "ticks": "",
           "title": {
            "standoff": 15
           },
           "zerolinecolor": "white",
           "zerolinewidth": 2
          },
          "yaxis": {
           "automargin": true,
           "gridcolor": "white",
           "linecolor": "white",
           "ticks": "",
           "title": {
            "standoff": 15
           },
           "zerolinecolor": "white",
           "zerolinewidth": 2
          }
         }
        },
        "width": 1000
       }
      }
     },
     "metadata": {},
     "output_type": "display_data"
    }
   ],
   "source": [
    "Graph_"
   ]
  },
  {
   "cell_type": "code",
   "execution_count": null,
   "metadata": {},
   "outputs": [],
   "source": []
  }
 ],
 "metadata": {
  "kernelspec": {
   "display_name": "base",
   "language": "python",
   "name": "python3"
  },
  "language_info": {
   "codemirror_mode": {
    "name": "ipython",
    "version": 3
   },
   "file_extension": ".py",
   "mimetype": "text/x-python",
   "name": "python",
   "nbconvert_exporter": "python",
   "pygments_lexer": "ipython3",
   "version": "3.9.13"
  },
  "orig_nbformat": 4,
  "vscode": {
   "interpreter": {
    "hash": "32fec40cd58b30964898a2316b7a6c6cca3b94bb6c135d58a9097c7356976a0a"
   }
  }
 },
 "nbformat": 4,
 "nbformat_minor": 2
}
